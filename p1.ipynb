{
  "cells": [
    {
      "cell_type": "markdown",
      "metadata": {
        "id": "view-in-github",
        "colab_type": "text"
      },
      "source": [
        "<a href=\"https://colab.research.google.com/github/pouyaabbassi/-/blob/main/p1.ipynb\" target=\"_parent\"><img src=\"https://colab.research.google.com/assets/colab-badge.svg\" alt=\"Open In Colab\"/></a>"
      ]
    },
    {
      "cell_type": "code",
      "execution_count": 36,
      "metadata": {
        "colab": {
          "base_uri": "https://localhost:8080/"
        },
        "id": "XzwMoLH27ih3",
        "outputId": "25cbf5da-193c-44e9-f47a-8bb5e4c78964"
      },
      "outputs": [
        {
          "output_type": "stream",
          "name": "stdout",
          "text": [
            "Drive already mounted at /content/drive; to attempt to forcibly remount, call drive.mount(\"/content/drive\", force_remount=True).\n"
          ]
        }
      ],
      "source": [
        "from google.colab import drive\n",
        "drive.mount('/content/drive')\n"
      ]
    },
    {
      "cell_type": "code",
      "execution_count": null,
      "metadata": {
        "colab": {
          "base_uri": "https://localhost:8080/"
        },
        "id": "r7jc7MJNrMcA",
        "outputId": "a8495565-e3f6-47ab-872c-4cd6fc4a5f03"
      },
      "outputs": [
        {
          "name": "stdout",
          "output_type": "stream",
          "text": [
            "📂 در حال پردازش پوشه: brainTumorDataPublic_767-1532.zip (Unzipped Files)\n"
          ]
        },
        {
          "name": "stderr",
          "output_type": "stream",
          "text": [
            "100%|██████████| 766/766 [00:31<00:00, 24.16it/s]\n"
          ]
        },
        {
          "name": "stdout",
          "output_type": "stream",
          "text": [
            "📂 در حال پردازش پوشه: brainTumorDataPublic_1533-2298.zip (Unzipped Files)\n"
          ]
        },
        {
          "name": "stderr",
          "output_type": "stream",
          "text": [
            "100%|██████████| 766/766 [00:31<00:00, 24.39it/s]\n"
          ]
        },
        {
          "name": "stdout",
          "output_type": "stream",
          "text": [
            "📂 در حال پردازش پوشه: brainTumorDataPublic_2299-3064.zip (Unzipped Files)\n"
          ]
        },
        {
          "name": "stderr",
          "output_type": "stream",
          "text": [
            "100%|██████████| 766/766 [00:32<00:00, 23.91it/s]\n"
          ]
        },
        {
          "name": "stdout",
          "output_type": "stream",
          "text": [
            "📂 در حال پردازش پوشه: brainTumorDataPublic_1-766.zip (Unzipped Files)\n"
          ]
        },
        {
          "name": "stderr",
          "output_type": "stream",
          "text": [
            "100%|██████████| 764/764 [00:36<00:00, 21.21it/s]\n"
          ]
        }
      ],
      "source": [
        "import os\n",
        "import scipy.io\n",
        "import h5py\n",
        "import numpy as np\n",
        "import cv2\n",
        "from tqdm import tqdm\n",
        "\n",
        "# مسیر ورودی: ۴ پوشه در گوگل درایو\n",
        "base_path = \"/content/drive/MyDrive/MRI_Datasets/Figshare/\"\n",
        "\n",
        "# مسیر خروجی: تصاویر دسته‌بندی‌شده در گوگل درایو\n",
        "output_base = \"/content/drive/MyDrive/figshare-sorted\"\n",
        "\n",
        "# دیکشنری کلاس‌ها بر اساس لیبل\n",
        "classes = {1: \"meningioma\", 2: \"glioma\", 3: \"pituitary\"}\n",
        "\n",
        "# ساخت پوشه‌های خروجی اگر وجود ندارند\n",
        "os.makedirs(output_base, exist_ok=True)\n",
        "for class_name in classes.values():\n",
        "    os.makedirs(os.path.join(output_base, class_name), exist_ok=True)\n",
        "\n",
        "# تابع نرمال‌سازی و ذخیره تصویر\n",
        "def normalize_and_save(image, save_path):\n",
        "    norm_img = cv2.normalize(image, None, 0, 255, cv2.NORM_MINMAX)\n",
        "    norm_img = norm_img.astype('uint8')\n",
        "    cv2.imwrite(save_path, norm_img)\n",
        "\n",
        "# تابع خواندن فایل .mat با پشتیبانی از هر دو فرمت\n",
        "def process_mat_file(filepath):\n",
        "    try:\n",
        "        data = scipy.io.loadmat(filepath)\n",
        "        label = int(data[\"cjdata\"][\"label\"][0][0])\n",
        "        image = data[\"cjdata\"][\"image\"]\n",
        "    except NotImplementedError:\n",
        "        with h5py.File(filepath, 'r') as f:\n",
        "            label = int(np.array(f['cjdata']['label'])[0][0])\n",
        "            image = np.array(f['cjdata']['image']).T  # h5py نیاز به transpose دارد\n",
        "    return label, image\n",
        "\n",
        "# پردازش تمام فایل‌های موجود در زیرپوشه‌ها\n",
        "for folder in os.listdir(base_path):\n",
        "    folder_path = os.path.join(base_path, folder)\n",
        "    if not os.path.isdir(folder_path):\n",
        "        continue\n",
        "\n",
        "    print(f\"📂 در حال پردازش پوشه: {folder}\")\n",
        "    for file in tqdm(os.listdir(folder_path)):\n",
        "        if file.endswith(\".mat\"):\n",
        "            file_path = os.path.join(folder_path, file)\n",
        "            try:\n",
        "                label, image = process_mat_file(file_path)\n",
        "                class_name = classes[label]\n",
        "                save_path = os.path.join(output_base, class_name, file.replace(\".mat\", \".png\"))\n",
        "                normalize_and_save(image, save_path)\n",
        "            except Exception as e:\n",
        "                print(f\"❌ خطا در فایل {file}: {e}\")\n"
      ]
    },
    {
      "cell_type": "code",
      "execution_count": null,
      "metadata": {
        "colab": {
          "base_uri": "https://localhost:8080/"
        },
        "id": "oQci7PnL1A1D",
        "outputId": "b13eafbd-d3f5-46c8-df26-d9f35e9b920a"
      },
      "outputs": [
        {
          "name": "stderr",
          "output_type": "stream",
          "text": [
            "meningioma: 100%|██████████| 706/706 [00:14<00:00, 47.34it/s]\n",
            "glioma: 100%|██████████| 1426/1426 [00:37<00:00, 38.29it/s]\n",
            "pituitary: 100%|██████████| 930/930 [00:21<00:00, 42.76it/s]\n"
          ]
        },
        {
          "name": "stdout",
          "output_type": "stream",
          "text": [
            "✅ تعداد نهایی تصاویر: 12248\n",
            "📏 شکل تصاویر: (224, 224, 1)\n",
            "🔢 تعداد لیبل‌ها: 12248\n",
            "💾 تصاویر ذخیره شد: /content/drive/MyDrive/figshare_X.npy\n",
            "💾 لیبل‌ها ذخیره شد: /content/drive/MyDrive/figshare_y.npy\n"
          ]
        }
      ],
      "source": [
        "import os\n",
        "import cv2\n",
        "import numpy as np\n",
        "import random\n",
        "from glob import glob\n",
        "from tqdm import tqdm\n",
        "from skimage.util import random_noise\n",
        "\n",
        "# مسیر تصاویر دسته‌بندی‌شده (خروجی مرحله قبل)\n",
        "input_base = \"/content/drive/MyDrive/figshare-sorted/\"\n",
        "\n",
        "# مسیرهای ذخیره نهایی به صورت غیر فشرده\n",
        "output_X_path = \"/content/drive/MyDrive/figshare_X.npy\"\n",
        "output_y_path = \"/content/drive/MyDrive/figshare_y.npy\"\n",
        "\n",
        "# اندازه هدف برای تصاویر (مطابق مدل CNN مقاله)\n",
        "target_size = (224, 224)\n",
        "\n",
        "# آماده‌سازی داده‌ها\n",
        "X = []\n",
        "y = []\n",
        "\n",
        "# نگاشت لیبل‌ها به عدد\n",
        "label_map = {\"meningioma\": 0, \"glioma\": 1, \"pituitary\": 2}\n",
        "\n",
        "# 🔁 خواندن و پردازش تصاویر\n",
        "for label_name in os.listdir(input_base):\n",
        "    label_path = os.path.join(input_base, label_name)\n",
        "    if not os.path.isdir(label_path):\n",
        "        continue\n",
        "\n",
        "    label = label_map[label_name]\n",
        "    image_paths = glob(os.path.join(label_path, \"*.png\"))\n",
        "\n",
        "    for img_path in tqdm(image_paths, desc=label_name):\n",
        "        try:\n",
        "            img = cv2.imread(img_path, cv2.IMREAD_GRAYSCALE)\n",
        "            img = cv2.resize(img, target_size)\n",
        "\n",
        "            # نرمال‌سازی به بازه 0 تا 1\n",
        "            img = img / 255.0\n",
        "\n",
        "            # کاهش نویز (با Median Filter)\n",
        "            img = cv2.medianBlur((img * 255).astype('uint8'), 3) / 255.0\n",
        "\n",
        "            # افزونه‌سازی (یکی از حالت‌های: چرخش، وارونه‌سازی، نویز)\n",
        "            aug_imgs = [img]\n",
        "            flipped = cv2.flip(img, 1)  # افقی\n",
        "            noisy = random_noise(img, mode='gaussian', var=0.005)\n",
        "            rotated = cv2.rotate(img, cv2.ROTATE_90_CLOCKWISE)\n",
        "\n",
        "            aug_imgs.extend([flipped, noisy, rotated])\n",
        "\n",
        "            for aug in aug_imgs:\n",
        "                X.append(aug.astype(np.float32))\n",
        "                y.append(label)\n",
        "\n",
        "        except Exception as e:\n",
        "            print(f\"❌ خطا در فایل {img_path}: {e}\")\n",
        "\n",
        "# 🔀 تبدیل به NumPy array و درهم‌ریزی\n",
        "X = np.array(X).reshape(-1, 224, 224, 1)\n",
        "y = np.array(y)\n",
        "\n",
        "print(f\"✅ تعداد نهایی تصاویر: {X.shape[0]}\")\n",
        "print(f\"📏 شکل تصاویر: {X.shape[1:]}\")\n",
        "print(f\"🔢 تعداد لیبل‌ها: {y.shape[0]}\")\n",
        "\n",
        "# ذخیره به صورت فایل‌های NumPy غیر فشرده\n",
        "np.save(output_X_path, X)\n",
        "np.save(output_y_path, y)\n",
        "\n",
        "print(f\"💾 تصاویر ذخیره شد: {output_X_path}\")\n",
        "print(f\"💾 لیبل‌ها ذخیره شد: {output_y_path}\")\n"
      ]
    },
    {
      "cell_type": "code",
      "execution_count": null,
      "metadata": {
        "colab": {
          "base_uri": "https://localhost:8080/"
        },
        "id": "UYZYsYkU6exO",
        "outputId": "b15f05d2-057e-452b-cffc-3bde811ab700"
      },
      "outputs": [
        {
          "name": "stdout",
          "output_type": "stream",
          "text": [
            "📂 در حال پردازش پوشه: brainTumorDataPublic_767-1532.zip (Unzipped Files)\n"
          ]
        },
        {
          "name": "stderr",
          "output_type": "stream",
          "text": [
            "100%|██████████| 766/766 [00:19<00:00, 39.56it/s]\n"
          ]
        },
        {
          "name": "stdout",
          "output_type": "stream",
          "text": [
            "📂 در حال پردازش پوشه: brainTumorDataPublic_1533-2298.zip (Unzipped Files)\n"
          ]
        },
        {
          "name": "stderr",
          "output_type": "stream",
          "text": [
            "100%|██████████| 766/766 [00:18<00:00, 40.44it/s]\n"
          ]
        },
        {
          "name": "stdout",
          "output_type": "stream",
          "text": [
            "📂 در حال پردازش پوشه: brainTumorDataPublic_2299-3064.zip (Unzipped Files)\n"
          ]
        },
        {
          "name": "stderr",
          "output_type": "stream",
          "text": [
            "100%|██████████| 766/766 [00:16<00:00, 46.58it/s]\n"
          ]
        },
        {
          "name": "stdout",
          "output_type": "stream",
          "text": [
            "📂 در حال پردازش پوشه: brainTumorDataPublic_1-766.zip (Unzipped Files)\n"
          ]
        },
        {
          "name": "stderr",
          "output_type": "stream",
          "text": [
            "100%|██████████| 764/764 [00:20<00:00, 37.27it/s]\n"
          ]
        },
        {
          "name": "stdout",
          "output_type": "stream",
          "text": [
            "✅ ذخیره‌سازی با موفقیت انجام شد.\n",
            "📐 شکل X: (3062, 224, 224, 3)\n",
            "🔢 شکل y: (3062,)\n"
          ]
        }
      ],
      "source": [
        "import os\n",
        "import scipy.io\n",
        "import h5py\n",
        "import numpy as np\n",
        "import cv2\n",
        "from tqdm import tqdm\n",
        "\n",
        "# مسیر ورودی: ۴ پوشه در گوگل درایو\n",
        "base_path = \"/content/drive/MyDrive/MRI_Datasets/Figshare/\"\n",
        "\n",
        "# مسیر خروجی: فایل‌های numpy در گوگل درایو\n",
        "output_npy_path = \"/content/drive/MyDrive/figshare-numpy\"\n",
        "os.makedirs(output_npy_path, exist_ok=True)\n",
        "\n",
        "# دیکشنری کلاس‌ها بر اساس لیبل\n",
        "classes = {1: \"meningioma\", 2: \"glioma\", 3: \"pituitary\"}\n",
        "\n",
        "# اندازه هدف تصاویر\n",
        "target_size = (224, 224)\n",
        "\n",
        "# لیست‌های داده و لیبل\n",
        "X = []\n",
        "y = []\n",
        "\n",
        "# تابع خواندن فایل .mat با پشتیبانی از هر دو فرمت\n",
        "def process_mat_file(filepath):\n",
        "    try:\n",
        "        data = scipy.io.loadmat(filepath)\n",
        "        label = int(data[\"cjdata\"][\"label\"][0][0])\n",
        "        image = data[\"cjdata\"][\"image\"]\n",
        "    except NotImplementedError:\n",
        "        with h5py.File(filepath, 'r') as f:\n",
        "            label = int(np.array(f['cjdata']['label'])[0][0])\n",
        "            image = np.array(f['cjdata']['image']).T  # h5py نیاز به transpose دارد\n",
        "    return label, image\n",
        "\n",
        "# پردازش تمام فایل‌های موجود در زیرپوشه‌ها\n",
        "for folder in os.listdir(base_path):\n",
        "    folder_path = os.path.join(base_path, folder)\n",
        "    if not os.path.isdir(folder_path):\n",
        "        continue\n",
        "\n",
        "    print(f\"📂 در حال پردازش پوشه: {folder}\")\n",
        "    for file in tqdm(os.listdir(folder_path)):\n",
        "        if file.endswith(\".mat\"):\n",
        "            file_path = os.path.join(folder_path, file)\n",
        "            try:\n",
        "                label, image = process_mat_file(file_path)\n",
        "\n",
        "                # نرمال‌سازی تصویر\n",
        "                norm_img = cv2.normalize(image, None, 0, 255, cv2.NORM_MINMAX)\n",
        "                norm_img = norm_img.astype('uint8')\n",
        "\n",
        "                # تبدیل به RGB و تغییر اندازه\n",
        "                if len(norm_img.shape) == 2:\n",
        "                    norm_img = cv2.cvtColor(norm_img, cv2.COLOR_GRAY2RGB)\n",
        "                resized_img = cv2.resize(norm_img, target_size)\n",
        "\n",
        "                # نرمال‌سازی به بازه [0, 1]\n",
        "                final_img = resized_img.astype('float32') / 255.0\n",
        "\n",
        "                X.append(final_img)\n",
        "                y.append(label - 1)  # لیبل‌ها را صفر-پایه می‌کنیم (۰، ۱، ۲)\n",
        "            except Exception as e:\n",
        "                print(f\"❌ خطا در فایل {file}: {e}\")\n",
        "\n",
        "# تبدیل به آرایه‌های NumPy\n",
        "X = np.array(X)\n",
        "y = np.array(y)\n",
        "\n",
        "# ذخیره‌سازی در گوگل درایو\n",
        "np.save(os.path.join(output_npy_path, \"X.npy\"), X)\n",
        "np.save(os.path.join(output_npy_path, \"y.npy\"), y)\n",
        "\n",
        "print(\"✅ ذخیره‌سازی با موفقیت انجام شد.\")\n",
        "print(\"📐 شکل X:\", X.shape)\n",
        "print(\"🔢 شکل y:\", y.shape)\n"
      ]
    },
    {
      "cell_type": "code",
      "execution_count": 9,
      "metadata": {
        "colab": {
          "base_uri": "https://localhost:8080/"
        },
        "collapsed": true,
        "id": "7m6zCD_R7TnK",
        "outputId": "8624278e-77ba-4804-94e4-3c65be21eb83"
      },
      "outputs": [
        {
          "output_type": "stream",
          "name": "stdout",
          "text": [
            "Requirement already satisfied: tensorflow in /usr/local/lib/python3.11/dist-packages (2.18.0)\n",
            "Requirement already satisfied: numpy in /usr/local/lib/python3.11/dist-packages (2.0.2)\n",
            "Requirement already satisfied: matplotlib in /usr/local/lib/python3.11/dist-packages (3.10.0)\n",
            "Requirement already satisfied: absl-py>=1.0.0 in /usr/local/lib/python3.11/dist-packages (from tensorflow) (1.4.0)\n",
            "Requirement already satisfied: astunparse>=1.6.0 in /usr/local/lib/python3.11/dist-packages (from tensorflow) (1.6.3)\n",
            "Requirement already satisfied: flatbuffers>=24.3.25 in /usr/local/lib/python3.11/dist-packages (from tensorflow) (25.2.10)\n",
            "Requirement already satisfied: gast!=0.5.0,!=0.5.1,!=0.5.2,>=0.2.1 in /usr/local/lib/python3.11/dist-packages (from tensorflow) (0.6.0)\n",
            "Requirement already satisfied: google-pasta>=0.1.1 in /usr/local/lib/python3.11/dist-packages (from tensorflow) (0.2.0)\n",
            "Requirement already satisfied: libclang>=13.0.0 in /usr/local/lib/python3.11/dist-packages (from tensorflow) (18.1.1)\n",
            "Requirement already satisfied: opt-einsum>=2.3.2 in /usr/local/lib/python3.11/dist-packages (from tensorflow) (3.4.0)\n",
            "Requirement already satisfied: packaging in /usr/local/lib/python3.11/dist-packages (from tensorflow) (24.2)\n",
            "Requirement already satisfied: protobuf!=4.21.0,!=4.21.1,!=4.21.2,!=4.21.3,!=4.21.4,!=4.21.5,<6.0.0dev,>=3.20.3 in /usr/local/lib/python3.11/dist-packages (from tensorflow) (5.29.4)\n",
            "Requirement already satisfied: requests<3,>=2.21.0 in /usr/local/lib/python3.11/dist-packages (from tensorflow) (2.32.3)\n",
            "Requirement already satisfied: setuptools in /usr/local/lib/python3.11/dist-packages (from tensorflow) (75.2.0)\n",
            "Requirement already satisfied: six>=1.12.0 in /usr/local/lib/python3.11/dist-packages (from tensorflow) (1.17.0)\n",
            "Requirement already satisfied: termcolor>=1.1.0 in /usr/local/lib/python3.11/dist-packages (from tensorflow) (3.1.0)\n",
            "Requirement already satisfied: typing-extensions>=3.6.6 in /usr/local/lib/python3.11/dist-packages (from tensorflow) (4.13.2)\n",
            "Requirement already satisfied: wrapt>=1.11.0 in /usr/local/lib/python3.11/dist-packages (from tensorflow) (1.17.2)\n",
            "Requirement already satisfied: grpcio<2.0,>=1.24.3 in /usr/local/lib/python3.11/dist-packages (from tensorflow) (1.71.0)\n",
            "Requirement already satisfied: tensorboard<2.19,>=2.18 in /usr/local/lib/python3.11/dist-packages (from tensorflow) (2.18.0)\n",
            "Requirement already satisfied: keras>=3.5.0 in /usr/local/lib/python3.11/dist-packages (from tensorflow) (3.8.0)\n",
            "Requirement already satisfied: h5py>=3.11.0 in /usr/local/lib/python3.11/dist-packages (from tensorflow) (3.13.0)\n",
            "Requirement already satisfied: ml-dtypes<0.5.0,>=0.4.0 in /usr/local/lib/python3.11/dist-packages (from tensorflow) (0.4.1)\n",
            "Requirement already satisfied: tensorflow-io-gcs-filesystem>=0.23.1 in /usr/local/lib/python3.11/dist-packages (from tensorflow) (0.37.1)\n",
            "Requirement already satisfied: contourpy>=1.0.1 in /usr/local/lib/python3.11/dist-packages (from matplotlib) (1.3.2)\n",
            "Requirement already satisfied: cycler>=0.10 in /usr/local/lib/python3.11/dist-packages (from matplotlib) (0.12.1)\n",
            "Requirement already satisfied: fonttools>=4.22.0 in /usr/local/lib/python3.11/dist-packages (from matplotlib) (4.58.0)\n",
            "Requirement already satisfied: kiwisolver>=1.3.1 in /usr/local/lib/python3.11/dist-packages (from matplotlib) (1.4.8)\n",
            "Requirement already satisfied: pillow>=8 in /usr/local/lib/python3.11/dist-packages (from matplotlib) (11.2.1)\n",
            "Requirement already satisfied: pyparsing>=2.3.1 in /usr/local/lib/python3.11/dist-packages (from matplotlib) (3.2.3)\n",
            "Requirement already satisfied: python-dateutil>=2.7 in /usr/local/lib/python3.11/dist-packages (from matplotlib) (2.9.0.post0)\n",
            "Requirement already satisfied: wheel<1.0,>=0.23.0 in /usr/local/lib/python3.11/dist-packages (from astunparse>=1.6.0->tensorflow) (0.45.1)\n",
            "Requirement already satisfied: rich in /usr/local/lib/python3.11/dist-packages (from keras>=3.5.0->tensorflow) (13.9.4)\n",
            "Requirement already satisfied: namex in /usr/local/lib/python3.11/dist-packages (from keras>=3.5.0->tensorflow) (0.0.9)\n",
            "Requirement already satisfied: optree in /usr/local/lib/python3.11/dist-packages (from keras>=3.5.0->tensorflow) (0.15.0)\n",
            "Requirement already satisfied: charset-normalizer<4,>=2 in /usr/local/lib/python3.11/dist-packages (from requests<3,>=2.21.0->tensorflow) (3.4.2)\n",
            "Requirement already satisfied: idna<4,>=2.5 in /usr/local/lib/python3.11/dist-packages (from requests<3,>=2.21.0->tensorflow) (3.10)\n",
            "Requirement already satisfied: urllib3<3,>=1.21.1 in /usr/local/lib/python3.11/dist-packages (from requests<3,>=2.21.0->tensorflow) (2.4.0)\n",
            "Requirement already satisfied: certifi>=2017.4.17 in /usr/local/lib/python3.11/dist-packages (from requests<3,>=2.21.0->tensorflow) (2025.4.26)\n",
            "Requirement already satisfied: markdown>=2.6.8 in /usr/local/lib/python3.11/dist-packages (from tensorboard<2.19,>=2.18->tensorflow) (3.8)\n",
            "Requirement already satisfied: tensorboard-data-server<0.8.0,>=0.7.0 in /usr/local/lib/python3.11/dist-packages (from tensorboard<2.19,>=2.18->tensorflow) (0.7.2)\n",
            "Requirement already satisfied: werkzeug>=1.0.1 in /usr/local/lib/python3.11/dist-packages (from tensorboard<2.19,>=2.18->tensorflow) (3.1.3)\n",
            "Requirement already satisfied: MarkupSafe>=2.1.1 in /usr/local/lib/python3.11/dist-packages (from werkzeug>=1.0.1->tensorboard<2.19,>=2.18->tensorflow) (3.0.2)\n",
            "Requirement already satisfied: markdown-it-py>=2.2.0 in /usr/local/lib/python3.11/dist-packages (from rich->keras>=3.5.0->tensorflow) (3.0.0)\n",
            "Requirement already satisfied: pygments<3.0.0,>=2.13.0 in /usr/local/lib/python3.11/dist-packages (from rich->keras>=3.5.0->tensorflow) (2.19.1)\n",
            "Requirement already satisfied: mdurl~=0.1 in /usr/local/lib/python3.11/dist-packages (from markdown-it-py>=2.2.0->rich->keras>=3.5.0->tensorflow) (0.1.2)\n"
          ]
        }
      ],
      "source": [
        "!pip install tensorflow numpy matplotlib\n"
      ]
    },
    {
      "cell_type": "code",
      "source": [
        "import numpy as np\n",
        "import os\n",
        "from sklearn.model_selection import train_test_split\n",
        "import tensorflow as tf\n",
        "from tensorflow.keras.utils import to_categorical\n",
        "\n",
        "# مسیر داده‌ها\n",
        "dataset_path = \"/content/processed_mri_dataset\"\n",
        "\n",
        "# لیبل‌ها\n",
        "label_map = {'Meningioma': 0, 'Glioma': 1, 'Pituitary': 2}\n",
        "\n",
        "def load_data(split):\n",
        "    images = []\n",
        "    labels = []\n",
        "    for tumor in label_map:\n",
        "        class_path = os.path.join(dataset_path, split, tumor)\n",
        "        for file in os.listdir(class_path):\n",
        "            if file.endswith(\".npy\"):\n",
        "                img = np.load(os.path.join(class_path, file))\n",
        "                img = img / 255.0  # نرمال‌سازی\n",
        "                images.append(img)\n",
        "                labels.append(label_map[tumor])\n",
        "    return np.array(images), np.array(labels)\n",
        "\n",
        "# بارگذاری داده‌ها\n",
        "x_train, y_train = load_data(\"train\")\n",
        "x_val, y_val = load_data(\"val\")\n",
        "x_test, y_test = load_data(\"test\")\n",
        "\n",
        "# افزودن بعد کانال\n",
        "x_train = x_train[..., np.newaxis]\n",
        "x_val = x_val[..., np.newaxis]\n",
        "x_test = x_test[..., np.newaxis]\n"
      ],
      "metadata": {
        "id": "sACoHIeS9FzO"
      },
      "execution_count": 38,
      "outputs": []
    },
    {
      "cell_type": "code",
      "source": [
        "import os\n",
        "\n",
        "data_path = \"/content/drive/MyDrive/figshare-numpy\"\n",
        "\n",
        "# نمایش فایل‌های موجود\n",
        "if os.path.exists(data_path):\n",
        "    print(\"📁 لیست فایل‌ها در مسیر:\")\n",
        "    print(os.listdir(data_path))\n",
        "else:\n",
        "    print(\"❌ پوشه پیدا نشد:\", data_path)\n"
      ],
      "metadata": {
        "colab": {
          "base_uri": "https://localhost:8080/"
        },
        "id": "H2F_kYIC_I4S",
        "outputId": "a481b525-8344-41c2-95bf-a891f87c92d6"
      },
      "execution_count": 42,
      "outputs": [
        {
          "output_type": "stream",
          "name": "stdout",
          "text": [
            "📁 لیست فایل‌ها در مسیر:\n",
            "['X_train.npy', 'y_train.npy', 'X_val.npy', 'y_val.npy', 'X_test.npy', 'y_test.npy']\n"
          ]
        }
      ]
    },
    {
      "cell_type": "code",
      "source": [
        "import numpy as np\n",
        "\n",
        "data_path = \"/content/drive/MyDrive/figshare-numpy\"\n",
        "\n",
        "# بارگذاری داده‌ها از فایل‌های تفکیک‌شده\n",
        "X_train = np.load(f\"{data_path}/X_train.npy\")\n",
        "y_train = np.load(f\"{data_path}/y_train.npy\")\n",
        "\n",
        "X_val = np.load(f\"{data_path}/X_val.npy\")\n",
        "y_val = np.load(f\"{data_path}/y_val.npy\")\n",
        "\n",
        "X_test = np.load(f\"{data_path}/X_test.npy\")\n",
        "y_test = np.load(f\"{data_path}/y_test.npy\")\n",
        "\n",
        "print(\"✅ داده‌ها با موفقیت بارگذاری شدند.\")\n",
        "print(\"Train:\", X_train.shape, y_train.shape)\n",
        "print(\"Val:  \", X_val.shape, y_val.shape)\n",
        "print(\"Test: \", X_test.shape, y_test.shape)\n"
      ],
      "metadata": {
        "colab": {
          "base_uri": "https://localhost:8080/"
        },
        "id": "JmMZ_1yV_XZg",
        "outputId": "e8dbd28b-815a-4d5e-d8e2-3a9f2e5a9d4a"
      },
      "execution_count": 43,
      "outputs": [
        {
          "output_type": "stream",
          "name": "stdout",
          "text": [
            "✅ داده‌ها با موفقیت بارگذاری شدند.\n",
            "Train: (2208, 224, 224, 3) (2208,)\n",
            "Val:   (246, 224, 224, 3) (246,)\n",
            "Test:  (608, 224, 224, 3) (610,)\n"
          ]
        }
      ]
    },
    {
      "cell_type": "code",
      "source": [
        "min_len = min(len(X_test), len(y_test))\n",
        "X_test = X_test[:min_len]\n",
        "y_test = y_test[:min_len]\n"
      ],
      "metadata": {
        "id": "GCL8c-50E7W8"
      },
      "execution_count": 48,
      "outputs": []
    },
    {
      "cell_type": "code",
      "source": [
        "import tensorflow as tf\n",
        "from tensorflow.keras.models import Sequential\n",
        "from tensorflow.keras.layers import (Conv2D, MaxPooling2D, BatchNormalization,\n",
        "                                     GlobalAveragePooling2D, Dense, Dropout)\n",
        "from tensorflow.keras.optimizers import Adam\n",
        "\n",
        "# ابعاد ورودی\n",
        "input_shape = (224, 224, 3)  # تصاویر RGB با اندازه 224x224\n",
        "\n",
        "model = Sequential()\n",
        "\n",
        "# لایه 1: Conv 22x22, stride=2, padding='same'\n",
        "model.add(Conv2D(32, kernel_size=(22,22), strides=2, padding='same', activation='relu', input_shape=input_shape))\n",
        "model.add(BatchNormalization())\n",
        "model.add(MaxPooling2D(pool_size=(4,4)))\n",
        "\n",
        "# لایه 2: Conv 11x11, stride=2, padding='same'\n",
        "model.add(Conv2D(64, kernel_size=(11,11), strides=2, padding='same', activation='relu'))\n",
        "model.add(BatchNormalization())\n",
        "model.add(MaxPooling2D(pool_size=(2,2)))\n",
        "\n",
        "# لایه 3: Conv 7x7, stride=2, padding='same'\n",
        "model.add(Conv2D(128, kernel_size=(7,7), strides=2, padding='same', activation='relu'))\n",
        "model.add(BatchNormalization())\n",
        "\n",
        "# لایه 4: Conv 5x5, stride=2, padding='same'\n",
        "model.add(Conv2D(256, kernel_size=(5,5), strides=2, padding='same', activation='relu'))\n",
        "model.add(BatchNormalization())\n",
        "\n",
        "# لایه 5: Conv 3x3, stride=2, padding='same'\n",
        "model.add(Conv2D(512, kernel_size=(3,3), strides=2, padding='same', activation='relu'))\n",
        "model.add(BatchNormalization())\n",
        "\n",
        "# Global Average Pooling 2D\n",
        "model.add(GlobalAveragePooling2D())\n",
        "\n",
        "# لایه‌های کاملاً متصل (Dense)\n",
        "model.add(Dense(256, activation='relu'))\n",
        "model.add(Dropout(0.2))\n",
        "\n",
        "model.add(Dense(128, activation='relu'))\n",
        "model.add(Dropout(0.2))\n",
        "\n",
        "model.add(Dense(64, activation='relu'))\n",
        "model.add(Dropout(0.2))\n",
        "\n",
        "# لایه خروجی ۳ کلاس با softmax\n",
        "model.add(Dense(3, activation='softmax'))\n",
        "\n",
        "# کامپایل مدل با Adam و lr=0.0001، loss sparse_categorical_crossentropy\n",
        "optimizer = Adam(learning_rate=0.0001)\n",
        "model.compile(optimizer=optimizer,\n",
        "              loss='sparse_categorical_crossentropy',\n",
        "              metrics=['accuracy'])\n",
        "\n",
        "# نمایش خلاصه مدل\n",
        "model.summary()\n"
      ],
      "metadata": {
        "colab": {
          "base_uri": "https://localhost:8080/",
          "height": 920
        },
        "id": "X-WRLi6GB-K5",
        "outputId": "fb603020-d084-45e3-884c-73acb9a46020"
      },
      "execution_count": 44,
      "outputs": [
        {
          "output_type": "stream",
          "name": "stderr",
          "text": [
            "/usr/local/lib/python3.11/dist-packages/keras/src/layers/convolutional/base_conv.py:107: UserWarning: Do not pass an `input_shape`/`input_dim` argument to a layer. When using Sequential models, prefer using an `Input(shape)` object as the first layer in the model instead.\n",
            "  super().__init__(activity_regularizer=activity_regularizer, **kwargs)\n"
          ]
        },
        {
          "output_type": "display_data",
          "data": {
            "text/plain": [
              "\u001b[1mModel: \"sequential\"\u001b[0m\n"
            ],
            "text/html": [
              "<pre style=\"white-space:pre;overflow-x:auto;line-height:normal;font-family:Menlo,'DejaVu Sans Mono',consolas,'Courier New',monospace\"><span style=\"font-weight: bold\">Model: \"sequential\"</span>\n",
              "</pre>\n"
            ]
          },
          "metadata": {}
        },
        {
          "output_type": "display_data",
          "data": {
            "text/plain": [
              "┏━━━━━━━━━━━━━━━━━━━━━━━━━━━━━━━━━┳━━━━━━━━━━━━━━━━━━━━━━━━┳━━━━━━━━━━━━━━━┓\n",
              "┃\u001b[1m \u001b[0m\u001b[1mLayer (type)                   \u001b[0m\u001b[1m \u001b[0m┃\u001b[1m \u001b[0m\u001b[1mOutput Shape          \u001b[0m\u001b[1m \u001b[0m┃\u001b[1m \u001b[0m\u001b[1m      Param #\u001b[0m\u001b[1m \u001b[0m┃\n",
              "┡━━━━━━━━━━━━━━━━━━━━━━━━━━━━━━━━━╇━━━━━━━━━━━━━━━━━━━━━━━━╇━━━━━━━━━━━━━━━┩\n",
              "│ conv2d_10 (\u001b[38;5;33mConv2D\u001b[0m)              │ (\u001b[38;5;45mNone\u001b[0m, \u001b[38;5;34m112\u001b[0m, \u001b[38;5;34m112\u001b[0m, \u001b[38;5;34m32\u001b[0m)   │        \u001b[38;5;34m46,496\u001b[0m │\n",
              "├─────────────────────────────────┼────────────────────────┼───────────────┤\n",
              "│ batch_normalization_10          │ (\u001b[38;5;45mNone\u001b[0m, \u001b[38;5;34m112\u001b[0m, \u001b[38;5;34m112\u001b[0m, \u001b[38;5;34m32\u001b[0m)   │           \u001b[38;5;34m128\u001b[0m │\n",
              "│ (\u001b[38;5;33mBatchNormalization\u001b[0m)            │                        │               │\n",
              "├─────────────────────────────────┼────────────────────────┼───────────────┤\n",
              "│ max_pooling2d_8 (\u001b[38;5;33mMaxPooling2D\u001b[0m)  │ (\u001b[38;5;45mNone\u001b[0m, \u001b[38;5;34m28\u001b[0m, \u001b[38;5;34m28\u001b[0m, \u001b[38;5;34m32\u001b[0m)     │             \u001b[38;5;34m0\u001b[0m │\n",
              "├─────────────────────────────────┼────────────────────────┼───────────────┤\n",
              "│ conv2d_11 (\u001b[38;5;33mConv2D\u001b[0m)              │ (\u001b[38;5;45mNone\u001b[0m, \u001b[38;5;34m14\u001b[0m, \u001b[38;5;34m14\u001b[0m, \u001b[38;5;34m64\u001b[0m)     │       \u001b[38;5;34m247,872\u001b[0m │\n",
              "├─────────────────────────────────┼────────────────────────┼───────────────┤\n",
              "│ batch_normalization_11          │ (\u001b[38;5;45mNone\u001b[0m, \u001b[38;5;34m14\u001b[0m, \u001b[38;5;34m14\u001b[0m, \u001b[38;5;34m64\u001b[0m)     │           \u001b[38;5;34m256\u001b[0m │\n",
              "│ (\u001b[38;5;33mBatchNormalization\u001b[0m)            │                        │               │\n",
              "├─────────────────────────────────┼────────────────────────┼───────────────┤\n",
              "│ max_pooling2d_9 (\u001b[38;5;33mMaxPooling2D\u001b[0m)  │ (\u001b[38;5;45mNone\u001b[0m, \u001b[38;5;34m7\u001b[0m, \u001b[38;5;34m7\u001b[0m, \u001b[38;5;34m64\u001b[0m)       │             \u001b[38;5;34m0\u001b[0m │\n",
              "├─────────────────────────────────┼────────────────────────┼───────────────┤\n",
              "│ conv2d_12 (\u001b[38;5;33mConv2D\u001b[0m)              │ (\u001b[38;5;45mNone\u001b[0m, \u001b[38;5;34m4\u001b[0m, \u001b[38;5;34m4\u001b[0m, \u001b[38;5;34m128\u001b[0m)      │       \u001b[38;5;34m401,536\u001b[0m │\n",
              "├─────────────────────────────────┼────────────────────────┼───────────────┤\n",
              "│ batch_normalization_12          │ (\u001b[38;5;45mNone\u001b[0m, \u001b[38;5;34m4\u001b[0m, \u001b[38;5;34m4\u001b[0m, \u001b[38;5;34m128\u001b[0m)      │           \u001b[38;5;34m512\u001b[0m │\n",
              "│ (\u001b[38;5;33mBatchNormalization\u001b[0m)            │                        │               │\n",
              "├─────────────────────────────────┼────────────────────────┼───────────────┤\n",
              "│ conv2d_13 (\u001b[38;5;33mConv2D\u001b[0m)              │ (\u001b[38;5;45mNone\u001b[0m, \u001b[38;5;34m2\u001b[0m, \u001b[38;5;34m2\u001b[0m, \u001b[38;5;34m256\u001b[0m)      │       \u001b[38;5;34m819,456\u001b[0m │\n",
              "├─────────────────────────────────┼────────────────────────┼───────────────┤\n",
              "│ batch_normalization_13          │ (\u001b[38;5;45mNone\u001b[0m, \u001b[38;5;34m2\u001b[0m, \u001b[38;5;34m2\u001b[0m, \u001b[38;5;34m256\u001b[0m)      │         \u001b[38;5;34m1,024\u001b[0m │\n",
              "│ (\u001b[38;5;33mBatchNormalization\u001b[0m)            │                        │               │\n",
              "├─────────────────────────────────┼────────────────────────┼───────────────┤\n",
              "│ conv2d_14 (\u001b[38;5;33mConv2D\u001b[0m)              │ (\u001b[38;5;45mNone\u001b[0m, \u001b[38;5;34m1\u001b[0m, \u001b[38;5;34m1\u001b[0m, \u001b[38;5;34m512\u001b[0m)      │     \u001b[38;5;34m1,180,160\u001b[0m │\n",
              "├─────────────────────────────────┼────────────────────────┼───────────────┤\n",
              "│ batch_normalization_14          │ (\u001b[38;5;45mNone\u001b[0m, \u001b[38;5;34m1\u001b[0m, \u001b[38;5;34m1\u001b[0m, \u001b[38;5;34m512\u001b[0m)      │         \u001b[38;5;34m2,048\u001b[0m │\n",
              "│ (\u001b[38;5;33mBatchNormalization\u001b[0m)            │                        │               │\n",
              "├─────────────────────────────────┼────────────────────────┼───────────────┤\n",
              "│ global_average_pooling2d_2      │ (\u001b[38;5;45mNone\u001b[0m, \u001b[38;5;34m512\u001b[0m)            │             \u001b[38;5;34m0\u001b[0m │\n",
              "│ (\u001b[38;5;33mGlobalAveragePooling2D\u001b[0m)        │                        │               │\n",
              "├─────────────────────────────────┼────────────────────────┼───────────────┤\n",
              "│ dense_10 (\u001b[38;5;33mDense\u001b[0m)                │ (\u001b[38;5;45mNone\u001b[0m, \u001b[38;5;34m256\u001b[0m)            │       \u001b[38;5;34m131,328\u001b[0m │\n",
              "├─────────────────────────────────┼────────────────────────┼───────────────┤\n",
              "│ dropout_8 (\u001b[38;5;33mDropout\u001b[0m)             │ (\u001b[38;5;45mNone\u001b[0m, \u001b[38;5;34m256\u001b[0m)            │             \u001b[38;5;34m0\u001b[0m │\n",
              "├─────────────────────────────────┼────────────────────────┼───────────────┤\n",
              "│ dense_11 (\u001b[38;5;33mDense\u001b[0m)                │ (\u001b[38;5;45mNone\u001b[0m, \u001b[38;5;34m128\u001b[0m)            │        \u001b[38;5;34m32,896\u001b[0m │\n",
              "├─────────────────────────────────┼────────────────────────┼───────────────┤\n",
              "│ dropout_9 (\u001b[38;5;33mDropout\u001b[0m)             │ (\u001b[38;5;45mNone\u001b[0m, \u001b[38;5;34m128\u001b[0m)            │             \u001b[38;5;34m0\u001b[0m │\n",
              "├─────────────────────────────────┼────────────────────────┼───────────────┤\n",
              "│ dense_12 (\u001b[38;5;33mDense\u001b[0m)                │ (\u001b[38;5;45mNone\u001b[0m, \u001b[38;5;34m64\u001b[0m)             │         \u001b[38;5;34m8,256\u001b[0m │\n",
              "├─────────────────────────────────┼────────────────────────┼───────────────┤\n",
              "│ dropout_10 (\u001b[38;5;33mDropout\u001b[0m)            │ (\u001b[38;5;45mNone\u001b[0m, \u001b[38;5;34m64\u001b[0m)             │             \u001b[38;5;34m0\u001b[0m │\n",
              "├─────────────────────────────────┼────────────────────────┼───────────────┤\n",
              "│ dense_13 (\u001b[38;5;33mDense\u001b[0m)                │ (\u001b[38;5;45mNone\u001b[0m, \u001b[38;5;34m3\u001b[0m)              │           \u001b[38;5;34m195\u001b[0m │\n",
              "└─────────────────────────────────┴────────────────────────┴───────────────┘\n"
            ],
            "text/html": [
              "<pre style=\"white-space:pre;overflow-x:auto;line-height:normal;font-family:Menlo,'DejaVu Sans Mono',consolas,'Courier New',monospace\">┏━━━━━━━━━━━━━━━━━━━━━━━━━━━━━━━━━┳━━━━━━━━━━━━━━━━━━━━━━━━┳━━━━━━━━━━━━━━━┓\n",
              "┃<span style=\"font-weight: bold\"> Layer (type)                    </span>┃<span style=\"font-weight: bold\"> Output Shape           </span>┃<span style=\"font-weight: bold\">       Param # </span>┃\n",
              "┡━━━━━━━━━━━━━━━━━━━━━━━━━━━━━━━━━╇━━━━━━━━━━━━━━━━━━━━━━━━╇━━━━━━━━━━━━━━━┩\n",
              "│ conv2d_10 (<span style=\"color: #0087ff; text-decoration-color: #0087ff\">Conv2D</span>)              │ (<span style=\"color: #00d7ff; text-decoration-color: #00d7ff\">None</span>, <span style=\"color: #00af00; text-decoration-color: #00af00\">112</span>, <span style=\"color: #00af00; text-decoration-color: #00af00\">112</span>, <span style=\"color: #00af00; text-decoration-color: #00af00\">32</span>)   │        <span style=\"color: #00af00; text-decoration-color: #00af00\">46,496</span> │\n",
              "├─────────────────────────────────┼────────────────────────┼───────────────┤\n",
              "│ batch_normalization_10          │ (<span style=\"color: #00d7ff; text-decoration-color: #00d7ff\">None</span>, <span style=\"color: #00af00; text-decoration-color: #00af00\">112</span>, <span style=\"color: #00af00; text-decoration-color: #00af00\">112</span>, <span style=\"color: #00af00; text-decoration-color: #00af00\">32</span>)   │           <span style=\"color: #00af00; text-decoration-color: #00af00\">128</span> │\n",
              "│ (<span style=\"color: #0087ff; text-decoration-color: #0087ff\">BatchNormalization</span>)            │                        │               │\n",
              "├─────────────────────────────────┼────────────────────────┼───────────────┤\n",
              "│ max_pooling2d_8 (<span style=\"color: #0087ff; text-decoration-color: #0087ff\">MaxPooling2D</span>)  │ (<span style=\"color: #00d7ff; text-decoration-color: #00d7ff\">None</span>, <span style=\"color: #00af00; text-decoration-color: #00af00\">28</span>, <span style=\"color: #00af00; text-decoration-color: #00af00\">28</span>, <span style=\"color: #00af00; text-decoration-color: #00af00\">32</span>)     │             <span style=\"color: #00af00; text-decoration-color: #00af00\">0</span> │\n",
              "├─────────────────────────────────┼────────────────────────┼───────────────┤\n",
              "│ conv2d_11 (<span style=\"color: #0087ff; text-decoration-color: #0087ff\">Conv2D</span>)              │ (<span style=\"color: #00d7ff; text-decoration-color: #00d7ff\">None</span>, <span style=\"color: #00af00; text-decoration-color: #00af00\">14</span>, <span style=\"color: #00af00; text-decoration-color: #00af00\">14</span>, <span style=\"color: #00af00; text-decoration-color: #00af00\">64</span>)     │       <span style=\"color: #00af00; text-decoration-color: #00af00\">247,872</span> │\n",
              "├─────────────────────────────────┼────────────────────────┼───────────────┤\n",
              "│ batch_normalization_11          │ (<span style=\"color: #00d7ff; text-decoration-color: #00d7ff\">None</span>, <span style=\"color: #00af00; text-decoration-color: #00af00\">14</span>, <span style=\"color: #00af00; text-decoration-color: #00af00\">14</span>, <span style=\"color: #00af00; text-decoration-color: #00af00\">64</span>)     │           <span style=\"color: #00af00; text-decoration-color: #00af00\">256</span> │\n",
              "│ (<span style=\"color: #0087ff; text-decoration-color: #0087ff\">BatchNormalization</span>)            │                        │               │\n",
              "├─────────────────────────────────┼────────────────────────┼───────────────┤\n",
              "│ max_pooling2d_9 (<span style=\"color: #0087ff; text-decoration-color: #0087ff\">MaxPooling2D</span>)  │ (<span style=\"color: #00d7ff; text-decoration-color: #00d7ff\">None</span>, <span style=\"color: #00af00; text-decoration-color: #00af00\">7</span>, <span style=\"color: #00af00; text-decoration-color: #00af00\">7</span>, <span style=\"color: #00af00; text-decoration-color: #00af00\">64</span>)       │             <span style=\"color: #00af00; text-decoration-color: #00af00\">0</span> │\n",
              "├─────────────────────────────────┼────────────────────────┼───────────────┤\n",
              "│ conv2d_12 (<span style=\"color: #0087ff; text-decoration-color: #0087ff\">Conv2D</span>)              │ (<span style=\"color: #00d7ff; text-decoration-color: #00d7ff\">None</span>, <span style=\"color: #00af00; text-decoration-color: #00af00\">4</span>, <span style=\"color: #00af00; text-decoration-color: #00af00\">4</span>, <span style=\"color: #00af00; text-decoration-color: #00af00\">128</span>)      │       <span style=\"color: #00af00; text-decoration-color: #00af00\">401,536</span> │\n",
              "├─────────────────────────────────┼────────────────────────┼───────────────┤\n",
              "│ batch_normalization_12          │ (<span style=\"color: #00d7ff; text-decoration-color: #00d7ff\">None</span>, <span style=\"color: #00af00; text-decoration-color: #00af00\">4</span>, <span style=\"color: #00af00; text-decoration-color: #00af00\">4</span>, <span style=\"color: #00af00; text-decoration-color: #00af00\">128</span>)      │           <span style=\"color: #00af00; text-decoration-color: #00af00\">512</span> │\n",
              "│ (<span style=\"color: #0087ff; text-decoration-color: #0087ff\">BatchNormalization</span>)            │                        │               │\n",
              "├─────────────────────────────────┼────────────────────────┼───────────────┤\n",
              "│ conv2d_13 (<span style=\"color: #0087ff; text-decoration-color: #0087ff\">Conv2D</span>)              │ (<span style=\"color: #00d7ff; text-decoration-color: #00d7ff\">None</span>, <span style=\"color: #00af00; text-decoration-color: #00af00\">2</span>, <span style=\"color: #00af00; text-decoration-color: #00af00\">2</span>, <span style=\"color: #00af00; text-decoration-color: #00af00\">256</span>)      │       <span style=\"color: #00af00; text-decoration-color: #00af00\">819,456</span> │\n",
              "├─────────────────────────────────┼────────────────────────┼───────────────┤\n",
              "│ batch_normalization_13          │ (<span style=\"color: #00d7ff; text-decoration-color: #00d7ff\">None</span>, <span style=\"color: #00af00; text-decoration-color: #00af00\">2</span>, <span style=\"color: #00af00; text-decoration-color: #00af00\">2</span>, <span style=\"color: #00af00; text-decoration-color: #00af00\">256</span>)      │         <span style=\"color: #00af00; text-decoration-color: #00af00\">1,024</span> │\n",
              "│ (<span style=\"color: #0087ff; text-decoration-color: #0087ff\">BatchNormalization</span>)            │                        │               │\n",
              "├─────────────────────────────────┼────────────────────────┼───────────────┤\n",
              "│ conv2d_14 (<span style=\"color: #0087ff; text-decoration-color: #0087ff\">Conv2D</span>)              │ (<span style=\"color: #00d7ff; text-decoration-color: #00d7ff\">None</span>, <span style=\"color: #00af00; text-decoration-color: #00af00\">1</span>, <span style=\"color: #00af00; text-decoration-color: #00af00\">1</span>, <span style=\"color: #00af00; text-decoration-color: #00af00\">512</span>)      │     <span style=\"color: #00af00; text-decoration-color: #00af00\">1,180,160</span> │\n",
              "├─────────────────────────────────┼────────────────────────┼───────────────┤\n",
              "│ batch_normalization_14          │ (<span style=\"color: #00d7ff; text-decoration-color: #00d7ff\">None</span>, <span style=\"color: #00af00; text-decoration-color: #00af00\">1</span>, <span style=\"color: #00af00; text-decoration-color: #00af00\">1</span>, <span style=\"color: #00af00; text-decoration-color: #00af00\">512</span>)      │         <span style=\"color: #00af00; text-decoration-color: #00af00\">2,048</span> │\n",
              "│ (<span style=\"color: #0087ff; text-decoration-color: #0087ff\">BatchNormalization</span>)            │                        │               │\n",
              "├─────────────────────────────────┼────────────────────────┼───────────────┤\n",
              "│ global_average_pooling2d_2      │ (<span style=\"color: #00d7ff; text-decoration-color: #00d7ff\">None</span>, <span style=\"color: #00af00; text-decoration-color: #00af00\">512</span>)            │             <span style=\"color: #00af00; text-decoration-color: #00af00\">0</span> │\n",
              "│ (<span style=\"color: #0087ff; text-decoration-color: #0087ff\">GlobalAveragePooling2D</span>)        │                        │               │\n",
              "├─────────────────────────────────┼────────────────────────┼───────────────┤\n",
              "│ dense_10 (<span style=\"color: #0087ff; text-decoration-color: #0087ff\">Dense</span>)                │ (<span style=\"color: #00d7ff; text-decoration-color: #00d7ff\">None</span>, <span style=\"color: #00af00; text-decoration-color: #00af00\">256</span>)            │       <span style=\"color: #00af00; text-decoration-color: #00af00\">131,328</span> │\n",
              "├─────────────────────────────────┼────────────────────────┼───────────────┤\n",
              "│ dropout_8 (<span style=\"color: #0087ff; text-decoration-color: #0087ff\">Dropout</span>)             │ (<span style=\"color: #00d7ff; text-decoration-color: #00d7ff\">None</span>, <span style=\"color: #00af00; text-decoration-color: #00af00\">256</span>)            │             <span style=\"color: #00af00; text-decoration-color: #00af00\">0</span> │\n",
              "├─────────────────────────────────┼────────────────────────┼───────────────┤\n",
              "│ dense_11 (<span style=\"color: #0087ff; text-decoration-color: #0087ff\">Dense</span>)                │ (<span style=\"color: #00d7ff; text-decoration-color: #00d7ff\">None</span>, <span style=\"color: #00af00; text-decoration-color: #00af00\">128</span>)            │        <span style=\"color: #00af00; text-decoration-color: #00af00\">32,896</span> │\n",
              "├─────────────────────────────────┼────────────────────────┼───────────────┤\n",
              "│ dropout_9 (<span style=\"color: #0087ff; text-decoration-color: #0087ff\">Dropout</span>)             │ (<span style=\"color: #00d7ff; text-decoration-color: #00d7ff\">None</span>, <span style=\"color: #00af00; text-decoration-color: #00af00\">128</span>)            │             <span style=\"color: #00af00; text-decoration-color: #00af00\">0</span> │\n",
              "├─────────────────────────────────┼────────────────────────┼───────────────┤\n",
              "│ dense_12 (<span style=\"color: #0087ff; text-decoration-color: #0087ff\">Dense</span>)                │ (<span style=\"color: #00d7ff; text-decoration-color: #00d7ff\">None</span>, <span style=\"color: #00af00; text-decoration-color: #00af00\">64</span>)             │         <span style=\"color: #00af00; text-decoration-color: #00af00\">8,256</span> │\n",
              "├─────────────────────────────────┼────────────────────────┼───────────────┤\n",
              "│ dropout_10 (<span style=\"color: #0087ff; text-decoration-color: #0087ff\">Dropout</span>)            │ (<span style=\"color: #00d7ff; text-decoration-color: #00d7ff\">None</span>, <span style=\"color: #00af00; text-decoration-color: #00af00\">64</span>)             │             <span style=\"color: #00af00; text-decoration-color: #00af00\">0</span> │\n",
              "├─────────────────────────────────┼────────────────────────┼───────────────┤\n",
              "│ dense_13 (<span style=\"color: #0087ff; text-decoration-color: #0087ff\">Dense</span>)                │ (<span style=\"color: #00d7ff; text-decoration-color: #00d7ff\">None</span>, <span style=\"color: #00af00; text-decoration-color: #00af00\">3</span>)              │           <span style=\"color: #00af00; text-decoration-color: #00af00\">195</span> │\n",
              "└─────────────────────────────────┴────────────────────────┴───────────────┘\n",
              "</pre>\n"
            ]
          },
          "metadata": {}
        },
        {
          "output_type": "display_data",
          "data": {
            "text/plain": [
              "\u001b[1m Total params: \u001b[0m\u001b[38;5;34m2,872,163\u001b[0m (10.96 MB)\n"
            ],
            "text/html": [
              "<pre style=\"white-space:pre;overflow-x:auto;line-height:normal;font-family:Menlo,'DejaVu Sans Mono',consolas,'Courier New',monospace\"><span style=\"font-weight: bold\"> Total params: </span><span style=\"color: #00af00; text-decoration-color: #00af00\">2,872,163</span> (10.96 MB)\n",
              "</pre>\n"
            ]
          },
          "metadata": {}
        },
        {
          "output_type": "display_data",
          "data": {
            "text/plain": [
              "\u001b[1m Trainable params: \u001b[0m\u001b[38;5;34m2,870,179\u001b[0m (10.95 MB)\n"
            ],
            "text/html": [
              "<pre style=\"white-space:pre;overflow-x:auto;line-height:normal;font-family:Menlo,'DejaVu Sans Mono',consolas,'Courier New',monospace\"><span style=\"font-weight: bold\"> Trainable params: </span><span style=\"color: #00af00; text-decoration-color: #00af00\">2,870,179</span> (10.95 MB)\n",
              "</pre>\n"
            ]
          },
          "metadata": {}
        },
        {
          "output_type": "display_data",
          "data": {
            "text/plain": [
              "\u001b[1m Non-trainable params: \u001b[0m\u001b[38;5;34m1,984\u001b[0m (7.75 KB)\n"
            ],
            "text/html": [
              "<pre style=\"white-space:pre;overflow-x:auto;line-height:normal;font-family:Menlo,'DejaVu Sans Mono',consolas,'Courier New',monospace\"><span style=\"font-weight: bold\"> Non-trainable params: </span><span style=\"color: #00af00; text-decoration-color: #00af00\">1,984</span> (7.75 KB)\n",
              "</pre>\n"
            ]
          },
          "metadata": {}
        }
      ]
    },
    {
      "cell_type": "code",
      "source": [
        "history = model.fit(\n",
        "    X_train, y_train,\n",
        "    validation_data=(X_val, y_val),\n",
        "    epochs=80,\n",
        "    batch_size=32,\n",
        "    verbose=1\n",
        ")\n"
      ],
      "metadata": {
        "colab": {
          "base_uri": "https://localhost:8080/"
        },
        "id": "9xkUOq1qCCC1",
        "outputId": "c7601ec1-3f01-4f96-c9fd-3a8d4d1aea16"
      },
      "execution_count": 45,
      "outputs": [
        {
          "output_type": "stream",
          "name": "stdout",
          "text": [
            "Epoch 1/80\n",
            "\u001b[1m69/69\u001b[0m \u001b[32m━━━━━━━━━━━━━━━━━━━━\u001b[0m\u001b[37m\u001b[0m \u001b[1m19s\u001b[0m 109ms/step - accuracy: 0.6156 - loss: 0.8718 - val_accuracy: 0.4837 - val_loss: 1.0641\n",
            "Epoch 2/80\n",
            "\u001b[1m69/69\u001b[0m \u001b[32m━━━━━━━━━━━━━━━━━━━━\u001b[0m\u001b[37m\u001b[0m \u001b[1m5s\u001b[0m 69ms/step - accuracy: 0.8057 - loss: 0.4565 - val_accuracy: 0.3252 - val_loss: 1.0589\n",
            "Epoch 3/80\n",
            "\u001b[1m69/69\u001b[0m \u001b[32m━━━━━━━━━━━━━━━━━━━━\u001b[0m\u001b[37m\u001b[0m \u001b[1m5s\u001b[0m 71ms/step - accuracy: 0.8427 - loss: 0.3771 - val_accuracy: 0.3171 - val_loss: 1.1749\n",
            "Epoch 4/80\n",
            "\u001b[1m69/69\u001b[0m \u001b[32m━━━━━━━━━━━━━━━━━━━━\u001b[0m\u001b[37m\u001b[0m \u001b[1m5s\u001b[0m 73ms/step - accuracy: 0.8767 - loss: 0.3121 - val_accuracy: 0.4228 - val_loss: 1.1540\n",
            "Epoch 5/80\n",
            "\u001b[1m69/69\u001b[0m \u001b[32m━━━━━━━━━━━━━━━━━━━━\u001b[0m\u001b[37m\u001b[0m \u001b[1m5s\u001b[0m 72ms/step - accuracy: 0.8987 - loss: 0.2561 - val_accuracy: 0.5732 - val_loss: 0.9994\n",
            "Epoch 6/80\n",
            "\u001b[1m69/69\u001b[0m \u001b[32m━━━━━━━━━━━━━━━━━━━━\u001b[0m\u001b[37m\u001b[0m \u001b[1m5s\u001b[0m 72ms/step - accuracy: 0.9122 - loss: 0.2316 - val_accuracy: 0.7967 - val_loss: 0.5123\n",
            "Epoch 7/80\n",
            "\u001b[1m69/69\u001b[0m \u001b[32m━━━━━━━━━━━━━━━━━━━━\u001b[0m\u001b[37m\u001b[0m \u001b[1m5s\u001b[0m 69ms/step - accuracy: 0.9427 - loss: 0.1510 - val_accuracy: 0.8211 - val_loss: 0.6015\n",
            "Epoch 8/80\n",
            "\u001b[1m69/69\u001b[0m \u001b[32m━━━━━━━━━━━━━━━━━━━━\u001b[0m\u001b[37m\u001b[0m \u001b[1m5s\u001b[0m 67ms/step - accuracy: 0.9507 - loss: 0.1362 - val_accuracy: 0.8577 - val_loss: 0.4380\n",
            "Epoch 9/80\n",
            "\u001b[1m69/69\u001b[0m \u001b[32m━━━━━━━━━━━━━━━━━━━━\u001b[0m\u001b[37m\u001b[0m \u001b[1m5s\u001b[0m 72ms/step - accuracy: 0.9435 - loss: 0.1491 - val_accuracy: 0.8049 - val_loss: 0.5938\n",
            "Epoch 10/80\n",
            "\u001b[1m69/69\u001b[0m \u001b[32m━━━━━━━━━━━━━━━━━━━━\u001b[0m\u001b[37m\u001b[0m \u001b[1m5s\u001b[0m 69ms/step - accuracy: 0.9614 - loss: 0.1064 - val_accuracy: 0.8455 - val_loss: 0.4875\n",
            "Epoch 11/80\n",
            "\u001b[1m69/69\u001b[0m \u001b[32m━━━━━━━━━━━━━━━━━━━━\u001b[0m\u001b[37m\u001b[0m \u001b[1m5s\u001b[0m 68ms/step - accuracy: 0.9701 - loss: 0.0787 - val_accuracy: 0.8008 - val_loss: 0.5037\n",
            "Epoch 12/80\n",
            "\u001b[1m69/69\u001b[0m \u001b[32m━━━━━━━━━━━━━━━━━━━━\u001b[0m\u001b[37m\u001b[0m \u001b[1m5s\u001b[0m 69ms/step - accuracy: 0.9711 - loss: 0.0893 - val_accuracy: 0.7683 - val_loss: 0.5971\n",
            "Epoch 13/80\n",
            "\u001b[1m69/69\u001b[0m \u001b[32m━━━━━━━━━━━━━━━━━━━━\u001b[0m\u001b[37m\u001b[0m \u001b[1m5s\u001b[0m 72ms/step - accuracy: 0.9672 - loss: 0.1021 - val_accuracy: 0.8821 - val_loss: 0.3179\n",
            "Epoch 14/80\n",
            "\u001b[1m69/69\u001b[0m \u001b[32m━━━━━━━━━━━━━━━━━━━━\u001b[0m\u001b[37m\u001b[0m \u001b[1m5s\u001b[0m 73ms/step - accuracy: 0.9771 - loss: 0.0759 - val_accuracy: 0.9024 - val_loss: 0.3002\n",
            "Epoch 15/80\n",
            "\u001b[1m69/69\u001b[0m \u001b[32m━━━━━━━━━━━━━━━━━━━━\u001b[0m\u001b[37m\u001b[0m \u001b[1m5s\u001b[0m 69ms/step - accuracy: 0.9868 - loss: 0.0450 - val_accuracy: 0.8211 - val_loss: 0.5746\n",
            "Epoch 16/80\n",
            "\u001b[1m69/69\u001b[0m \u001b[32m━━━━━━━━━━━━━━━━━━━━\u001b[0m\u001b[37m\u001b[0m \u001b[1m5s\u001b[0m 68ms/step - accuracy: 0.9810 - loss: 0.0561 - val_accuracy: 0.7236 - val_loss: 1.5630\n",
            "Epoch 17/80\n",
            "\u001b[1m69/69\u001b[0m \u001b[32m━━━━━━━━━━━━━━━━━━━━\u001b[0m\u001b[37m\u001b[0m \u001b[1m5s\u001b[0m 70ms/step - accuracy: 0.9785 - loss: 0.0684 - val_accuracy: 0.9512 - val_loss: 0.1563\n",
            "Epoch 18/80\n",
            "\u001b[1m69/69\u001b[0m \u001b[32m━━━━━━━━━━━━━━━━━━━━\u001b[0m\u001b[37m\u001b[0m \u001b[1m5s\u001b[0m 69ms/step - accuracy: 0.9943 - loss: 0.0208 - val_accuracy: 0.9187 - val_loss: 0.2817\n",
            "Epoch 19/80\n",
            "\u001b[1m69/69\u001b[0m \u001b[32m━━━━━━━━━━━━━━━━━━━━\u001b[0m\u001b[37m\u001b[0m \u001b[1m5s\u001b[0m 68ms/step - accuracy: 0.9883 - loss: 0.0324 - val_accuracy: 0.7764 - val_loss: 1.0454\n",
            "Epoch 20/80\n",
            "\u001b[1m69/69\u001b[0m \u001b[32m━━━━━━━━━━━━━━━━━━━━\u001b[0m\u001b[37m\u001b[0m \u001b[1m6s\u001b[0m 75ms/step - accuracy: 0.9779 - loss: 0.0576 - val_accuracy: 0.6626 - val_loss: 1.8394\n",
            "Epoch 21/80\n",
            "\u001b[1m69/69\u001b[0m \u001b[32m━━━━━━━━━━━━━━━━━━━━\u001b[0m\u001b[37m\u001b[0m \u001b[1m5s\u001b[0m 69ms/step - accuracy: 0.9932 - loss: 0.0268 - val_accuracy: 0.9146 - val_loss: 0.2354\n",
            "Epoch 22/80\n",
            "\u001b[1m69/69\u001b[0m \u001b[32m━━━━━━━━━━━━━━━━━━━━\u001b[0m\u001b[37m\u001b[0m \u001b[1m5s\u001b[0m 74ms/step - accuracy: 0.9871 - loss: 0.0406 - val_accuracy: 0.7520 - val_loss: 1.9401\n",
            "Epoch 23/80\n",
            "\u001b[1m69/69\u001b[0m \u001b[32m━━━━━━━━━━━━━━━━━━━━\u001b[0m\u001b[37m\u001b[0m \u001b[1m10s\u001b[0m 69ms/step - accuracy: 0.9843 - loss: 0.0502 - val_accuracy: 0.8618 - val_loss: 0.6175\n",
            "Epoch 24/80\n",
            "\u001b[1m69/69\u001b[0m \u001b[32m━━━━━━━━━━━━━━━━━━━━\u001b[0m\u001b[37m\u001b[0m \u001b[1m5s\u001b[0m 70ms/step - accuracy: 0.9839 - loss: 0.0532 - val_accuracy: 0.7561 - val_loss: 1.2175\n",
            "Epoch 25/80\n",
            "\u001b[1m69/69\u001b[0m \u001b[32m━━━━━━━━━━━━━━━━━━━━\u001b[0m\u001b[37m\u001b[0m \u001b[1m5s\u001b[0m 69ms/step - accuracy: 0.9757 - loss: 0.0906 - val_accuracy: 0.8618 - val_loss: 0.5424\n",
            "Epoch 26/80\n",
            "\u001b[1m69/69\u001b[0m \u001b[32m━━━━━━━━━━━━━━━━━━━━\u001b[0m\u001b[37m\u001b[0m \u001b[1m5s\u001b[0m 74ms/step - accuracy: 0.9917 - loss: 0.0252 - val_accuracy: 0.8577 - val_loss: 0.4987\n",
            "Epoch 27/80\n",
            "\u001b[1m69/69\u001b[0m \u001b[32m━━━━━━━━━━━━━━━━━━━━\u001b[0m\u001b[37m\u001b[0m \u001b[1m10s\u001b[0m 69ms/step - accuracy: 0.9800 - loss: 0.0487 - val_accuracy: 0.9228 - val_loss: 0.2398\n",
            "Epoch 28/80\n",
            "\u001b[1m69/69\u001b[0m \u001b[32m━━━━━━━━━━━━━━━━━━━━\u001b[0m\u001b[37m\u001b[0m \u001b[1m5s\u001b[0m 70ms/step - accuracy: 0.9941 - loss: 0.0177 - val_accuracy: 0.9106 - val_loss: 0.3621\n",
            "Epoch 29/80\n",
            "\u001b[1m69/69\u001b[0m \u001b[32m━━━━━━━━━━━━━━━━━━━━\u001b[0m\u001b[37m\u001b[0m \u001b[1m5s\u001b[0m 68ms/step - accuracy: 0.9931 - loss: 0.0274 - val_accuracy: 0.7561 - val_loss: 1.8018\n",
            "Epoch 30/80\n",
            "\u001b[1m69/69\u001b[0m \u001b[32m━━━━━━━━━━━━━━━━━━━━\u001b[0m\u001b[37m\u001b[0m \u001b[1m5s\u001b[0m 69ms/step - accuracy: 0.9848 - loss: 0.0335 - val_accuracy: 0.9634 - val_loss: 0.1273\n",
            "Epoch 31/80\n",
            "\u001b[1m69/69\u001b[0m \u001b[32m━━━━━━━━━━━━━━━━━━━━\u001b[0m\u001b[37m\u001b[0m \u001b[1m5s\u001b[0m 70ms/step - accuracy: 0.9978 - loss: 0.0093 - val_accuracy: 0.9512 - val_loss: 0.1941\n",
            "Epoch 32/80\n",
            "\u001b[1m69/69\u001b[0m \u001b[32m━━━━━━━━━━━━━━━━━━━━\u001b[0m\u001b[37m\u001b[0m \u001b[1m5s\u001b[0m 69ms/step - accuracy: 0.9987 - loss: 0.0073 - val_accuracy: 0.7602 - val_loss: 1.2477\n",
            "Epoch 33/80\n",
            "\u001b[1m69/69\u001b[0m \u001b[32m━━━━━━━━━━━━━━━━━━━━\u001b[0m\u001b[37m\u001b[0m \u001b[1m5s\u001b[0m 75ms/step - accuracy: 0.9891 - loss: 0.0278 - val_accuracy: 0.9187 - val_loss: 0.3856\n",
            "Epoch 34/80\n",
            "\u001b[1m69/69\u001b[0m \u001b[32m━━━━━━━━━━━━━━━━━━━━\u001b[0m\u001b[37m\u001b[0m \u001b[1m5s\u001b[0m 68ms/step - accuracy: 0.9875 - loss: 0.0515 - val_accuracy: 0.9431 - val_loss: 0.1854\n",
            "Epoch 35/80\n",
            "\u001b[1m69/69\u001b[0m \u001b[32m━━━━━━━━━━━━━━━━━━━━\u001b[0m\u001b[37m\u001b[0m \u001b[1m5s\u001b[0m 73ms/step - accuracy: 0.9911 - loss: 0.0392 - val_accuracy: 0.9472 - val_loss: 0.2896\n",
            "Epoch 36/80\n",
            "\u001b[1m69/69\u001b[0m \u001b[32m━━━━━━━━━━━━━━━━━━━━\u001b[0m\u001b[37m\u001b[0m \u001b[1m5s\u001b[0m 70ms/step - accuracy: 0.9935 - loss: 0.0197 - val_accuracy: 0.9228 - val_loss: 0.4147\n",
            "Epoch 37/80\n",
            "\u001b[1m69/69\u001b[0m \u001b[32m━━━━━━━━━━━━━━━━━━━━\u001b[0m\u001b[37m\u001b[0m \u001b[1m5s\u001b[0m 68ms/step - accuracy: 0.9817 - loss: 0.0639 - val_accuracy: 0.8089 - val_loss: 0.7446\n",
            "Epoch 38/80\n",
            "\u001b[1m69/69\u001b[0m \u001b[32m━━━━━━━━━━━━━━━━━━━━\u001b[0m\u001b[37m\u001b[0m \u001b[1m5s\u001b[0m 69ms/step - accuracy: 0.9923 - loss: 0.0278 - val_accuracy: 0.9512 - val_loss: 0.1684\n",
            "Epoch 39/80\n",
            "\u001b[1m69/69\u001b[0m \u001b[32m━━━━━━━━━━━━━━━━━━━━\u001b[0m\u001b[37m\u001b[0m \u001b[1m5s\u001b[0m 69ms/step - accuracy: 0.9903 - loss: 0.0210 - val_accuracy: 0.9431 - val_loss: 0.1699\n",
            "Epoch 40/80\n",
            "\u001b[1m69/69\u001b[0m \u001b[32m━━━━━━━━━━━━━━━━━━━━\u001b[0m\u001b[37m\u001b[0m \u001b[1m5s\u001b[0m 69ms/step - accuracy: 0.9901 - loss: 0.0349 - val_accuracy: 0.9512 - val_loss: 0.1846\n",
            "Epoch 41/80\n",
            "\u001b[1m69/69\u001b[0m \u001b[32m━━━━━━━━━━━━━━━━━━━━\u001b[0m\u001b[37m\u001b[0m \u001b[1m5s\u001b[0m 70ms/step - accuracy: 0.9974 - loss: 0.0099 - val_accuracy: 0.8902 - val_loss: 0.4334\n",
            "Epoch 42/80\n",
            "\u001b[1m69/69\u001b[0m \u001b[32m━━━━━━━━━━━━━━━━━━━━\u001b[0m\u001b[37m\u001b[0m \u001b[1m5s\u001b[0m 73ms/step - accuracy: 0.9894 - loss: 0.0334 - val_accuracy: 0.9512 - val_loss: 0.2483\n",
            "Epoch 43/80\n",
            "\u001b[1m69/69\u001b[0m \u001b[32m━━━━━━━━━━━━━━━━━━━━\u001b[0m\u001b[37m\u001b[0m \u001b[1m5s\u001b[0m 73ms/step - accuracy: 0.9897 - loss: 0.0267 - val_accuracy: 0.9228 - val_loss: 0.2933\n",
            "Epoch 44/80\n",
            "\u001b[1m69/69\u001b[0m \u001b[32m━━━━━━━━━━━━━━━━━━━━\u001b[0m\u001b[37m\u001b[0m \u001b[1m5s\u001b[0m 70ms/step - accuracy: 0.9895 - loss: 0.0228 - val_accuracy: 0.9350 - val_loss: 0.2519\n",
            "Epoch 45/80\n",
            "\u001b[1m69/69\u001b[0m \u001b[32m━━━━━━━━━━━━━━━━━━━━\u001b[0m\u001b[37m\u001b[0m \u001b[1m5s\u001b[0m 72ms/step - accuracy: 0.9950 - loss: 0.0131 - val_accuracy: 0.9512 - val_loss: 0.1999\n",
            "Epoch 46/80\n",
            "\u001b[1m69/69\u001b[0m \u001b[32m━━━━━━━━━━━━━━━━━━━━\u001b[0m\u001b[37m\u001b[0m \u001b[1m5s\u001b[0m 74ms/step - accuracy: 0.9973 - loss: 0.0113 - val_accuracy: 0.9472 - val_loss: 0.2264\n",
            "Epoch 47/80\n",
            "\u001b[1m69/69\u001b[0m \u001b[32m━━━━━━━━━━━━━━━━━━━━\u001b[0m\u001b[37m\u001b[0m \u001b[1m10s\u001b[0m 68ms/step - accuracy: 0.9978 - loss: 0.0065 - val_accuracy: 0.9187 - val_loss: 0.3895\n",
            "Epoch 48/80\n",
            "\u001b[1m69/69\u001b[0m \u001b[32m━━━━━━━━━━━━━━━━━━━━\u001b[0m\u001b[37m\u001b[0m \u001b[1m5s\u001b[0m 70ms/step - accuracy: 0.9915 - loss: 0.0255 - val_accuracy: 0.9350 - val_loss: 0.2625\n",
            "Epoch 49/80\n",
            "\u001b[1m69/69\u001b[0m \u001b[32m━━━━━━━━━━━━━━━━━━━━\u001b[0m\u001b[37m\u001b[0m \u001b[1m5s\u001b[0m 73ms/step - accuracy: 0.9926 - loss: 0.0150 - val_accuracy: 0.9553 - val_loss: 0.2051\n",
            "Epoch 50/80\n",
            "\u001b[1m69/69\u001b[0m \u001b[32m━━━━━━━━━━━━━━━━━━━━\u001b[0m\u001b[37m\u001b[0m \u001b[1m5s\u001b[0m 70ms/step - accuracy: 0.9944 - loss: 0.0198 - val_accuracy: 0.9106 - val_loss: 0.3026\n",
            "Epoch 51/80\n",
            "\u001b[1m69/69\u001b[0m \u001b[32m━━━━━━━━━━━━━━━━━━━━\u001b[0m\u001b[37m\u001b[0m \u001b[1m5s\u001b[0m 70ms/step - accuracy: 0.9942 - loss: 0.0139 - val_accuracy: 0.8252 - val_loss: 1.0040\n",
            "Epoch 52/80\n",
            "\u001b[1m69/69\u001b[0m \u001b[32m━━━━━━━━━━━━━━━━━━━━\u001b[0m\u001b[37m\u001b[0m \u001b[1m5s\u001b[0m 68ms/step - accuracy: 0.9997 - loss: 0.0036 - val_accuracy: 0.9431 - val_loss: 0.3486\n",
            "Epoch 53/80\n",
            "\u001b[1m69/69\u001b[0m \u001b[32m━━━━━━━━━━━━━━━━━━━━\u001b[0m\u001b[37m\u001b[0m \u001b[1m5s\u001b[0m 75ms/step - accuracy: 0.9995 - loss: 0.0019 - val_accuracy: 0.9431 - val_loss: 0.4147\n",
            "Epoch 54/80\n",
            "\u001b[1m69/69\u001b[0m \u001b[32m━━━━━━━━━━━━━━━━━━━━\u001b[0m\u001b[37m\u001b[0m \u001b[1m5s\u001b[0m 68ms/step - accuracy: 0.9999 - loss: 0.0030 - val_accuracy: 0.9146 - val_loss: 0.4518\n",
            "Epoch 55/80\n",
            "\u001b[1m69/69\u001b[0m \u001b[32m━━━━━━━━━━━━━━━━━━━━\u001b[0m\u001b[37m\u001b[0m \u001b[1m5s\u001b[0m 69ms/step - accuracy: 0.9997 - loss: 0.0018 - val_accuracy: 0.9553 - val_loss: 0.2282\n",
            "Epoch 56/80\n",
            "\u001b[1m69/69\u001b[0m \u001b[32m━━━━━━━━━━━━━━━━━━━━\u001b[0m\u001b[37m\u001b[0m \u001b[1m5s\u001b[0m 70ms/step - accuracy: 0.9996 - loss: 0.0043 - val_accuracy: 0.9512 - val_loss: 0.2133\n",
            "Epoch 57/80\n",
            "\u001b[1m69/69\u001b[0m \u001b[32m━━━━━━━━━━━━━━━━━━━━\u001b[0m\u001b[37m\u001b[0m \u001b[1m5s\u001b[0m 68ms/step - accuracy: 0.9988 - loss: 0.0046 - val_accuracy: 0.8943 - val_loss: 0.6634\n",
            "Epoch 58/80\n",
            "\u001b[1m69/69\u001b[0m \u001b[32m━━━━━━━━━━━━━━━━━━━━\u001b[0m\u001b[37m\u001b[0m \u001b[1m5s\u001b[0m 71ms/step - accuracy: 0.9936 - loss: 0.0245 - val_accuracy: 0.8821 - val_loss: 0.7304\n",
            "Epoch 59/80\n",
            "\u001b[1m69/69\u001b[0m \u001b[32m━━━━━━━━━━━━━━━━━━━━\u001b[0m\u001b[37m\u001b[0m \u001b[1m5s\u001b[0m 73ms/step - accuracy: 0.9838 - loss: 0.0772 - val_accuracy: 0.8902 - val_loss: 0.4099\n",
            "Epoch 60/80\n",
            "\u001b[1m69/69\u001b[0m \u001b[32m━━━━━━━━━━━━━━━━━━━━\u001b[0m\u001b[37m\u001b[0m \u001b[1m5s\u001b[0m 68ms/step - accuracy: 0.9925 - loss: 0.0195 - val_accuracy: 0.9512 - val_loss: 0.2111\n",
            "Epoch 61/80\n",
            "\u001b[1m69/69\u001b[0m \u001b[32m━━━━━━━━━━━━━━━━━━━━\u001b[0m\u001b[37m\u001b[0m \u001b[1m5s\u001b[0m 75ms/step - accuracy: 0.9919 - loss: 0.0211 - val_accuracy: 0.8902 - val_loss: 0.5887\n",
            "Epoch 62/80\n",
            "\u001b[1m69/69\u001b[0m \u001b[32m━━━━━━━━━━━━━━━━━━━━\u001b[0m\u001b[37m\u001b[0m \u001b[1m5s\u001b[0m 73ms/step - accuracy: 0.9956 - loss: 0.0157 - val_accuracy: 0.9431 - val_loss: 0.2828\n",
            "Epoch 63/80\n",
            "\u001b[1m69/69\u001b[0m \u001b[32m━━━━━━━━━━━━━━━━━━━━\u001b[0m\u001b[37m\u001b[0m \u001b[1m5s\u001b[0m 74ms/step - accuracy: 0.9938 - loss: 0.0166 - val_accuracy: 0.9553 - val_loss: 0.1273\n",
            "Epoch 64/80\n",
            "\u001b[1m69/69\u001b[0m \u001b[32m━━━━━━━━━━━━━━━━━━━━\u001b[0m\u001b[37m\u001b[0m \u001b[1m5s\u001b[0m 69ms/step - accuracy: 0.9922 - loss: 0.0245 - val_accuracy: 0.8537 - val_loss: 0.9745\n",
            "Epoch 65/80\n",
            "\u001b[1m69/69\u001b[0m \u001b[32m━━━━━━━━━━━━━━━━━━━━\u001b[0m\u001b[37m\u001b[0m \u001b[1m5s\u001b[0m 68ms/step - accuracy: 0.9905 - loss: 0.0326 - val_accuracy: 0.8821 - val_loss: 0.4882\n",
            "Epoch 66/80\n",
            "\u001b[1m69/69\u001b[0m \u001b[32m━━━━━━━━━━━━━━━━━━━━\u001b[0m\u001b[37m\u001b[0m \u001b[1m5s\u001b[0m 71ms/step - accuracy: 0.9950 - loss: 0.0123 - val_accuracy: 0.9634 - val_loss: 0.1691\n",
            "Epoch 67/80\n",
            "\u001b[1m69/69\u001b[0m \u001b[32m━━━━━━━━━━━━━━━━━━━━\u001b[0m\u001b[37m\u001b[0m \u001b[1m5s\u001b[0m 68ms/step - accuracy: 0.9988 - loss: 0.0034 - val_accuracy: 0.9390 - val_loss: 0.2362\n",
            "Epoch 68/80\n",
            "\u001b[1m69/69\u001b[0m \u001b[32m━━━━━━━━━━━━━━━━━━━━\u001b[0m\u001b[37m\u001b[0m \u001b[1m5s\u001b[0m 69ms/step - accuracy: 0.9993 - loss: 0.0025 - val_accuracy: 0.9472 - val_loss: 0.2172\n",
            "Epoch 69/80\n",
            "\u001b[1m69/69\u001b[0m \u001b[32m━━━━━━━━━━━━━━━━━━━━\u001b[0m\u001b[37m\u001b[0m \u001b[1m5s\u001b[0m 70ms/step - accuracy: 0.9990 - loss: 0.0030 - val_accuracy: 0.8333 - val_loss: 0.9979\n",
            "Epoch 70/80\n",
            "\u001b[1m69/69\u001b[0m \u001b[32m━━━━━━━━━━━━━━━━━━━━\u001b[0m\u001b[37m\u001b[0m \u001b[1m5s\u001b[0m 68ms/step - accuracy: 0.9989 - loss: 0.0077 - val_accuracy: 0.9187 - val_loss: 0.4096\n",
            "Epoch 71/80\n",
            "\u001b[1m69/69\u001b[0m \u001b[32m━━━━━━━━━━━━━━━━━━━━\u001b[0m\u001b[37m\u001b[0m \u001b[1m5s\u001b[0m 70ms/step - accuracy: 0.9878 - loss: 0.0532 - val_accuracy: 0.8333 - val_loss: 0.7210\n",
            "Epoch 72/80\n",
            "\u001b[1m69/69\u001b[0m \u001b[32m━━━━━━━━━━━━━━━━━━━━\u001b[0m\u001b[37m\u001b[0m \u001b[1m5s\u001b[0m 69ms/step - accuracy: 0.9950 - loss: 0.0198 - val_accuracy: 0.8333 - val_loss: 0.5064\n",
            "Epoch 73/80\n",
            "\u001b[1m69/69\u001b[0m \u001b[32m━━━━━━━━━━━━━━━━━━━━\u001b[0m\u001b[37m\u001b[0m \u001b[1m5s\u001b[0m 73ms/step - accuracy: 0.9949 - loss: 0.0138 - val_accuracy: 0.9390 - val_loss: 0.2222\n",
            "Epoch 74/80\n",
            "\u001b[1m69/69\u001b[0m \u001b[32m━━━━━━━━━━━━━━━━━━━━\u001b[0m\u001b[37m\u001b[0m \u001b[1m5s\u001b[0m 70ms/step - accuracy: 0.9968 - loss: 0.0121 - val_accuracy: 0.9512 - val_loss: 0.1937\n",
            "Epoch 75/80\n",
            "\u001b[1m69/69\u001b[0m \u001b[32m━━━━━━━━━━━━━━━━━━━━\u001b[0m\u001b[37m\u001b[0m \u001b[1m5s\u001b[0m 69ms/step - accuracy: 0.9949 - loss: 0.0163 - val_accuracy: 0.9472 - val_loss: 0.2406\n",
            "Epoch 76/80\n",
            "\u001b[1m69/69\u001b[0m \u001b[32m━━━━━━━━━━━━━━━━━━━━\u001b[0m\u001b[37m\u001b[0m \u001b[1m5s\u001b[0m 74ms/step - accuracy: 0.9954 - loss: 0.0153 - val_accuracy: 0.9472 - val_loss: 0.2096\n",
            "Epoch 77/80\n",
            "\u001b[1m69/69\u001b[0m \u001b[32m━━━━━━━━━━━━━━━━━━━━\u001b[0m\u001b[37m\u001b[0m \u001b[1m10s\u001b[0m 69ms/step - accuracy: 0.9985 - loss: 0.0061 - val_accuracy: 0.9431 - val_loss: 0.2892\n",
            "Epoch 78/80\n",
            "\u001b[1m69/69\u001b[0m \u001b[32m━━━━━━━━━━━━━━━━━━━━\u001b[0m\u001b[37m\u001b[0m \u001b[1m5s\u001b[0m 71ms/step - accuracy: 0.9960 - loss: 0.0133 - val_accuracy: 0.8049 - val_loss: 1.2251\n",
            "Epoch 79/80\n",
            "\u001b[1m69/69\u001b[0m \u001b[32m━━━━━━━━━━━━━━━━━━━━\u001b[0m\u001b[37m\u001b[0m \u001b[1m5s\u001b[0m 68ms/step - accuracy: 0.9986 - loss: 0.0054 - val_accuracy: 0.8333 - val_loss: 1.0509\n",
            "Epoch 80/80\n",
            "\u001b[1m69/69\u001b[0m \u001b[32m━━━━━━━━━━━━━━━━━━━━\u001b[0m\u001b[37m\u001b[0m \u001b[1m5s\u001b[0m 73ms/step - accuracy: 1.0000 - loss: 0.0033 - val_accuracy: 0.9715 - val_loss: 0.1092\n"
          ]
        }
      ]
    },
    {
      "cell_type": "code",
      "source": [
        "test_loss, test_acc = model.evaluate(X_test, y_test, verbose=0)\n",
        "print(f\"Test accuracy: {test_acc:.4f}\")\n"
      ],
      "metadata": {
        "colab": {
          "base_uri": "https://localhost:8080/"
        },
        "id": "spSM81D4D4Sl",
        "outputId": "d6eaf2bb-8700-4190-8565-89607eecbd28"
      },
      "execution_count": 50,
      "outputs": [
        {
          "output_type": "stream",
          "name": "stdout",
          "text": [
            "Test accuracy: 0.9622\n"
          ]
        }
      ]
    },
    {
      "cell_type": "code",
      "source": [
        "import numpy as np\n",
        "import matplotlib.pyplot as plt\n",
        "from sklearn.metrics import cohen_kappa_score, roc_curve, auc\n",
        "\n",
        "def calculate_metrics(TP, FP, TN, FN):\n",
        "    precision = TP / (TP + FP) if (TP + FP) > 0 else 0\n",
        "    recall = TP / (TP + FN) if (TP + FN) > 0 else 0\n",
        "    FPR = FP / (TN + FP) if (TN + FP) > 0 else 0\n",
        "    TNR = TN / (TN + FP) if (TN + FP) > 0 else 0\n",
        "    FNR = FN / (TP + FN) if (TP + FN) > 0 else 0\n",
        "    accuracy = (TP + TN) / (TP + TN + FP + FN) if (TP + TN + FP + FN) > 0 else 0\n",
        "    F1_score = 2 * (precision * recall) / (precision + recall) if (precision + recall) > 0 else 0\n",
        "\n",
        "    # Matthews Correlation Coefficient\n",
        "    numerator = (TP * TN) - (FP * FN)\n",
        "    denominator = np.sqrt((TP + FP) * (TP + FN) * (TN + FP) * (TN + FN))\n",
        "    MCC = numerator / denominator if denominator > 0 else 0\n",
        "\n",
        "    # Cohen's Kappa requires arrays of true and predicted labels, فرضا این دو آرایه را برای محاسبه آماده کنید\n",
        "    # این بخش برای حالتی است که داده‌های اصلی دارید، اینجا یک نمونه فرضی برای نمونه است:\n",
        "    y_true = np.array([1]*TP + [0]*FN + [1]*FP + [0]*TN)  # فقط نمونه‌ی فرضی\n",
        "    y_pred = np.array([1]*TP + [0]*FN + [0]*FP + [0]*TN)\n",
        "    kappa = cohen_kappa_score(y_true, y_pred)\n",
        "\n",
        "    return {\n",
        "        'Precision': precision,\n",
        "        'Recall': recall,\n",
        "        'FPR': FPR,\n",
        "        'TNR': TNR,\n",
        "        'FNR': FNR,\n",
        "        'Accuracy': accuracy,\n",
        "        'F1-Score': F1_score,\n",
        "        'MCC': MCC,\n",
        "        'Cohen_Kappa': kappa\n",
        "    }\n",
        "\n",
        "# مثال استفاده (اعداد را با مقادیر واقعی خود جایگزین کنید)\n",
        "TP = 100\n",
        "FP = 5\n",
        "TN = 50\n",
        "FN = 10\n",
        "\n",
        "metrics = calculate_metrics(TP, FP, TN, FN)\n",
        "print(metrics)\n",
        "\n"
      ],
      "metadata": {
        "colab": {
          "base_uri": "https://localhost:8080/"
        },
        "id": "5oZeccu9HXz9",
        "outputId": "47479aff-12a7-4ce4-9091-95b0aa5dea1f"
      },
      "execution_count": 52,
      "outputs": [
        {
          "output_type": "stream",
          "name": "stdout",
          "text": [
            "{'Precision': 0.9523809523809523, 'Recall': 0.9090909090909091, 'FPR': 0.09090909090909091, 'TNR': 0.9090909090909091, 'FNR': 0.09090909090909091, 'Accuracy': 0.9090909090909091, 'F1-Score': 0.9302325581395349, 'MCC': np.float64(0.8017837257372731), 'Cohen_Kappa': np.float64(0.935672514619883)}\n"
          ]
        }
      ]
    },
    {
      "cell_type": "code",
      "source": [
        "import pandas as pd\n",
        "\n",
        "def metrics_table(metrics_dict):\n",
        "    # metrics_dict فرضا به شکل {'Class1': {...}, 'Class2': {...}, 'Macro Average': {...}}\n",
        "    rows = []\n",
        "    for class_name, metric_vals in metrics_dict.items():\n",
        "        row = {'Class': class_name}\n",
        "        row.update(metric_vals)\n",
        "        rows.append(row)\n",
        "    df = pd.DataFrame(rows)\n",
        "    df.set_index('Class', inplace=True)\n",
        "    return df\n",
        "\n",
        "# مثال: فرض کنیم سه کلاس داریم و برای هر کدوم معیارها رو حساب کردیم\n",
        "metrics_dict = {\n",
        "    'Meningioma': {\n",
        "        'Precision': 0.9623,\n",
        "        'Recall': 0.95,\n",
        "        'FPR': 0.01,\n",
        "        'TNR': 0.99,\n",
        "        'FNR': 0.05,\n",
        "        'Accuracy': 0.97,\n",
        "        'F1-Score': 0.96,\n",
        "        'MCC': 0.94,\n",
        "        'Cohen_Kappa': 0.93\n",
        "    },\n",
        "    'Glioma': {\n",
        "        'Precision': 0.9689,\n",
        "        'Recall': 0.95,\n",
        "        'FPR': 0.008,\n",
        "        'TNR': 0.992,\n",
        "        'FNR': 0.05,\n",
        "        'Accuracy': 0.975,\n",
        "        'F1-Score': 0.959,\n",
        "        'MCC': 0.95,\n",
        "        'Cohen_Kappa': 0.94\n",
        "    },\n",
        "    'Pituitary': {\n",
        "        'Precision': 0.9869,\n",
        "        'Recall': 0.95,\n",
        "        'FPR': 0.005,\n",
        "        'TNR': 0.995,\n",
        "        'FNR': 0.05,\n",
        "        'Accuracy': 0.98,\n",
        "        'F1-Score': 0.967,\n",
        "        'MCC': 0.96,\n",
        "        'Cohen_Kappa': 0.95\n",
        "    },\n",
        "    'Macro Average': {\n",
        "        'Precision': (0.9623 + 0.9689 + 0.9869)/3,\n",
        "        'Recall': 0.95,\n",
        "        'FPR': (0.01 + 0.008 + 0.005)/3,\n",
        "        'TNR': (0.99 + 0.992 + 0.995)/3,\n",
        "        'FNR': 0.05,\n",
        "        'Accuracy': (0.97 + 0.975 + 0.98)/3,\n",
        "        'F1-Score': (0.96 + 0.959 + 0.967)/3,\n",
        "        'MCC': (0.94 + 0.95 + 0.96)/3,\n",
        "        'Cohen_Kappa': (0.93 + 0.94 + 0.95)/3\n",
        "    }\n",
        "}\n",
        "\n",
        "df_metrics = metrics_table(metrics_dict)\n",
        "print(df_metrics)\n"
      ],
      "metadata": {
        "colab": {
          "base_uri": "https://localhost:8080/"
        },
        "id": "lTyGwYxqIieb",
        "outputId": "612a729d-39ea-4603-d1cd-1160fb2f6fed"
      },
      "execution_count": 53,
      "outputs": [
        {
          "output_type": "stream",
          "name": "stdout",
          "text": [
            "               Precision  Recall       FPR       TNR   FNR  Accuracy  \\\n",
            "Class                                                                  \n",
            "Meningioma        0.9623    0.95  0.010000  0.990000  0.05     0.970   \n",
            "Glioma            0.9689    0.95  0.008000  0.992000  0.05     0.975   \n",
            "Pituitary         0.9869    0.95  0.005000  0.995000  0.05     0.980   \n",
            "Macro Average     0.9727    0.95  0.007667  0.992333  0.05     0.975   \n",
            "\n",
            "               F1-Score   MCC  Cohen_Kappa  \n",
            "Class                                       \n",
            "Meningioma        0.960  0.94         0.93  \n",
            "Glioma            0.959  0.95         0.94  \n",
            "Pituitary         0.967  0.96         0.95  \n",
            "Macro Average     0.962  0.95         0.94  \n"
          ]
        }
      ]
    },
    {
      "cell_type": "code",
      "source": [
        "def plot_metrics(metrics_dict):\n",
        "    names = list(metrics_dict.keys())\n",
        "    values = list(metrics_dict.values())\n",
        "\n",
        "    plt.figure(figsize=(12,6))\n",
        "    bars = plt.bar(names, values, color='skyblue')\n",
        "    plt.ylim(0,1.1)\n",
        "    plt.title(\"معیارهای ارزیابی مدل\")\n",
        "    plt.ylabel(\"مقدار معیار\")\n",
        "    plt.grid(axis='y')\n",
        "\n",
        "    for bar, val in zip(bars, values):\n",
        "        plt.text(bar.get_x() + bar.get_width()/2, bar.get_height() + 0.02, f\"{val:.3f}\",\n",
        "                 ha='center', fontsize=11)\n",
        "\n",
        "    plt.show()\n",
        "\n",
        "plot_metrics(metrics)\n"
      ],
      "metadata": {
        "colab": {
          "base_uri": "https://localhost:8080/",
          "height": 544
        },
        "id": "dGL5Kea-JI9S",
        "outputId": "d89b27a4-5b70-4a8d-d978-ef3024ff39a9"
      },
      "execution_count": 54,
      "outputs": [
        {
          "output_type": "display_data",
          "data": {
            "text/plain": [
              "<Figure size 1200x600 with 1 Axes>"
            ],
            "image/png": "[encoded data removed]"
          },
          "metadata": {}
        }
      ]
    },
    {
      "cell_type": "code",
      "source": [
        "import numpy as np\n",
        "import matplotlib.pyplot as plt\n",
        "from sklearn.preprocessing import label_binarize\n",
        "from sklearn.metrics import roc_curve, auc\n",
        "from sklearn.metrics import RocCurveDisplay\n",
        "\n",
        "# فرض کنید y_true و y_scores را دارید:\n",
        "# y_true: آرایه برچسب‌های اصلی، به صورت اعداد صحیح از 0 تا n_classes-1\n",
        "# y_scores: آرایه پیش‌بینی احتمال هر کلاس با ابعاد (n_samples, n_classes)\n",
        "\n",
        "# مثال فرضی (باید با داده واقعی شما جایگزین شود)\n",
        "y_true = np.array([0, 2, 1, 2, 0, 1])  # نمونه برچسب‌های واقعی (3 کلاس: 0,1,2)\n",
        "y_scores = np.array([\n",
        "    [0.9, 0.05, 0.05],\n",
        "    [0.1, 0.1, 0.8],\n",
        "    [0.2, 0.7, 0.1],\n",
        "    [0.05, 0.1, 0.85],\n",
        "    [0.88, 0.07, 0.05],\n",
        "    [0.1, 0.8, 0.1]\n",
        "])  # احتمال‌های پیش‌بینی شده برای هر کلاس\n",
        "\n",
        "# تعداد کلاس‌ها\n",
        "n_classes = y_scores.shape[1]\n",
        "\n",
        "# باینری کردن برچسب‌ها (برای ROC چندکلاسه)\n",
        "y_true_bin = label_binarize(y_true, classes=range(n_classes))\n",
        "\n",
        "# رسم ROC برای هر کلاس\n",
        "plt.figure(figsize=(8, 6))\n",
        "\n",
        "colors = ['blue', 'green', 'red']\n",
        "for i in range(n_classes):\n",
        "    fpr, tpr, _ = roc_curve(y_true_bin[:, i], y_scores[:, i])\n",
        "    roc_auc = auc(fpr, tpr)\n",
        "    plt.plot(fpr, tpr, color=colors[i], lw=2,\n",
        "             label=f'کلاس {i} (AUC = {roc_auc:.3f})')\n",
        "\n",
        "plt.plot([0, 1], [0, 1], 'k--', lw=2)  # خط قطری\n",
        "plt.xlim([0.0, 1.0])\n",
        "plt.ylim([0.0, 1.05])\n",
        "plt.xlabel('نرخ مثبت کاذب (False Positive Rate)')\n",
        "plt.ylabel('نرخ شناسایی صحیح (True Positive Rate)')\n",
        "plt.title(\"نمودار ROC مدل Deep CNN روی دیتاست Figshare\")\n",
        "plt.legend(loc=\"lower right\")\n",
        "plt.grid(True)\n",
        "plt.show()\n"
      ],
      "metadata": {
        "colab": {
          "base_uri": "https://localhost:8080/",
          "height": 565
        },
        "id": "IxpKCC_TKtQw",
        "outputId": "6fe385da-1f17-4201-d9ac-8e01796d461a"
      },
      "execution_count": 56,
      "outputs": [
        {
          "output_type": "display_data",
          "data": {
            "text/plain": [
              "<Figure size 800x600 with 1 Axes>"
            ],
            "image/png": "[encoded data removed]"
          },
          "metadata": {}
        }
      ]
    }
  ],
  "metadata": {
    "colab": {
      "provenance": [],
      "gpuType": "T4",
      "authorship_tag": "ABX9TyMIT8NC/iPi3zxsND1yU5Mx",
      "include_colab_link": true
    },
    "kernelspec": {
      "display_name": "Python 3",
      "name": "python3"
    },
    "language_info": {
      "name": "python"
    },
    "accelerator": "GPU"
  },
  "nbformat": 4,
  "nbformat_minor": 0
}